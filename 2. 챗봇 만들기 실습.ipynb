{
 "cells": [
  {
   "cell_type": "markdown",
   "metadata": {},
   "source": [
    "1. 프로젝트 소개 및 환경 설정"
   ]
  },
  {
   "cell_type": "code",
   "execution_count": null,
   "metadata": {},
   "outputs": [],
   "source": [
    "!pip install langchain-community\n",
    "!pip install langchain-openai"
   ]
  },
  {
   "cell_type": "code",
   "execution_count": null,
   "metadata": {},
   "outputs": [],
   "source": [
    "# LangSmith API 키 설정\n",
    "os.environ[\"LANGCHAIN_API_KEY\"] = \"\"\n",
    "\n",
    "# LangSmith 프로젝트 이름 설정\n",
    "os.environ[\"LANGCHAIN_PROJECT\"] = \"\""
   ]
  },
  {
   "cell_type": "markdown",
   "metadata": {},
   "source": [
    "2. 데이터 불러오기"
   ]
  },
  {
   "cell_type": "code",
   "execution_count": null,
   "metadata": {},
   "outputs": [],
   "source": [
    "!pip install pymupdf"
   ]
  },
  {
   "cell_type": "code",
   "execution_count": null,
   "metadata": {},
   "outputs": [],
   "source": [
    "from langchain_community.document_loaders import PyMuPDFLoader\n",
    "# 단계 1: 문서 로드(Load Documents)\n",
    "loader = PyMuPDFLoader(\"seoul_life_2024.pdf\")\n",
    "docs = loader.load()\n",
    "\n",
    "# 문서 요약 정보 출력\n",
    "print(f\"로드된 문서 수: {len(docs)}\")\n",
    "if docs:\n",
    "    print(\"\\n첫 번째 문서 요약:\")\n",
    "    print(f\"페이지 수: {docs[0].metadata.get('page', 'N/A')}\")\n",
    "    print(f\"총 페이지 수: {docs[0].metadata.get('total_pages', 'N/A')}\")\n",
    "    print(f\"내용 미리보기: {docs[0].page_content[:100]}...\")  # 처음 100자만 출력"
   ]
  },
  {
   "cell_type": "markdown",
   "metadata": {},
   "source": [
    "3. 문서 분할"
   ]
  },
  {
   "cell_type": "code",
   "execution_count": null,
   "metadata": {},
   "outputs": [],
   "source": [
    "from langchain_text_splitters import RecursiveCharacterTextSplitter\n",
    "\n",
    "text_splitter = RecursiveCharacterTextSplitter(chunk_size=1000, chunk_overlap=100)\n",
    "\n",
    "splits = text_splitter.split_documents(docs)\n",
    "len(splits)"
   ]
  },
  {
   "cell_type": "markdown",
   "metadata": {},
   "source": [
    "4. 벡터스토어 생성"
   ]
  },
  {
   "cell_type": "code",
   "execution_count": null,
   "metadata": {},
   "outputs": [],
   "source": [
    "!pip install faiss-cpu"
   ]
  },
  {
   "cell_type": "code",
   "execution_count": null,
   "metadata": {},
   "outputs": [],
   "source": [
    "from langchain_community.vectorstores import FAISS \n",
    "from langchain_openai import OpenAIEmbeddings \n",
    "\n",
    "vectorstore = FAISS.from_documents(documents=splits, embedding=OpenAIEmbeddings())\n",
    "\n",
    "print(f\"벡터스토어 유형: {type(vectorstore)}\")\n",
    "print(f\"저장된 문서 수: {vectorstore.index.ntotal}\")\n",
    "print(f\"벡터의 차원: {vectorstore.index.d}\")"
   ]
  },
  {
   "cell_type": "markdown",
   "metadata": {},
   "source": [
    "5. Retriever(검색기) 생성"
   ]
  },
  {
   "cell_type": "code",
   "execution_count": null,
   "metadata": {},
   "outputs": [],
   "source": [
    "#벡터스토어를 retriever로 변환\n",
    "retriever = vectorstore.as_retriever()\n",
    "\n",
    "#Retriever 정보 확인\n",
    "print(f\"Retriever 유형: {type(retriever)}\")\n",
    "print(f\"검색 유형: {retriever.search_type}\")\n",
    "print(f\"검색 파라미터: {retriever.search_kwargs}\")"
   ]
  },
  {
   "cell_type": "markdown",
   "metadata": {},
   "source": [
    "6. 프롬프트 탬플릿 정의"
   ]
  },
  {
   "cell_type": "code",
   "execution_count": null,
   "metadata": {},
   "outputs": [],
   "source": [
    "from langchain_core.prompts import PromptTemplate\n",
    "\n",
    "text = \"\"\"\n",
    "당신은 서울시의 정책에 대해 상세히 알고 있는 친절한 시민 상담사입니다. 당신의 임무는 서울 시민들에게 서울시의 다양한 정책을 쉽고 친절하게 설명하는 것입니다.\n",
    "\n",
    "주어진 문맥(context)을 바탕으로 질문(question)에 답해주세요. 답변할 때는 다음 지침을 따라주세요:\n",
    "1. 항상 친절하고 이해하기 쉬운 말로 설명해주세요.\n",
    "2. 가능한 한 구체적인 정보를 제공하되, 불필요한 세부사항은 생략하세요.\n",
    "3. 정책의 목적과 시민들에게 어떤 혜택이 있는지 강조해주세요.\n",
    "4. 만약 주어진 문맥에서 답을 찾을 수 없다면, \"죄송합니다. 현재 가지고 있는 정보로는 이 질문에 답하기 어렵습니다. 서울시 공식 홈페이지나 다산콜센터(120)에서 더 자세한 정보를 얻으실 수 있습니다.\"라고 답하세요.\n",
    "5. 기술적인 용어나 정책 이름은 그대로 사용하되, 필요하다면 간단한 설명을 덧붙여주세요.\n",
    "\n",
    "질문에 대해 단계적으로 생각하고, 논리적으로 답변을 구성해주세요.\n",
    "\n",
    "#질문: \n",
    "{question} \n",
    "\n",
    "#제공된 정보: \n",
    "{context} \n",
    "\n",
    "#답변:\n",
    "\"\"\"\n",
    "\n",
    "prompt = PromptTemplate.from_template(text)"
   ]
  },
  {
   "cell_type": "markdown",
   "metadata": {},
   "source": [
    "7. RAG (Retrieval-Augmented Generation) 체인 구성"
   ]
  },
  {
   "cell_type": "code",
   "execution_count": null,
   "metadata": {},
   "outputs": [],
   "source": [
    "from langchain_openai import ChatOpenAI\n",
    "from langchain_core.runnables import RunnablePassthrough\n",
    "from langchain_core.output_parsers import StrOutputParser\n",
    "\n",
    "#ChatGPT 모델 초기화\n",
    "llm = ChatOpenAI(model_name=\"gpt-4o\", temperature=0)\n",
    "\n",
    "# RAG 체인 구성\n",
    "rag_chain = (\n",
    "    {\"context\": retriever, \"question\": RunnablePassthrough()}\n",
    "    | prompt\n",
    "    | llm\n",
    "    | StrOutputParser()\n",
    ")\n",
    "\n",
    "print(f\"RAG 체인 타입: {type(rag_chain)}\")"
   ]
  },
  {
   "cell_type": "code",
   "execution_count": null,
   "metadata": {},
   "outputs": [],
   "source": [
    "test_question = \"서울시의 주요 복지 정책은 무엇인가요?\"\n",
    "response = rag_chain.invoke(test_question)\n",
    "print(f\"\\n질문: {test_question}\")\n",
    "print(f\"응답: {response}\")"
   ]
  }
 ],
 "metadata": {
  "language_info": {
   "name": "python"
  }
 },
 "nbformat": 4,
 "nbformat_minor": 2
}
